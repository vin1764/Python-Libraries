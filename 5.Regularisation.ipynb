{
 "cells": [
  {
   "cell_type": "code",
   "execution_count": 1,
   "metadata": {},
   "outputs": [],
   "source": [
    "import numpy as np\n",
    "import matplotlib.pyplot as plt\n",
    "from lab_utils_common import sigmoid"
   ]
  },
  {
   "cell_type": "markdown",
   "metadata": {},
   "source": [
    "Cost Function for Regularised Logistic Regression:\n",
    "\n",
    "j_wb=(1/m)*summation-(y[i]*log(f_wb_i))-(1-y[i])*(log(1-f_wb_i)) + (lambda/2m)*summation(w[j])^2\n",
    "\n",
    "where f_wb=sigmoid(wx+b)\n",
    "\n",
    "Here, the extra term comes to reduce the effects of the parameters w_j to avoid overfitting.By choosing a large value of lambda, we can make the function fit well by minimising the parameters as well when minimising the cost"
   ]
  },
  {
   "cell_type": "code",
   "execution_count": 2,
   "metadata": {},
   "outputs": [],
   "source": [
    "def compute_regularised_cost(x,y,w,b,l):\n",
    "    m,n=x.shape()\n",
    "    cost=0\n",
    "    \n",
    "    for i in range(m):\n",
    "        f_wb_i=sigmoid(np.dot(w,x[i])+b)\n",
    "        cost=cost + (-y[i]*np.log(f_wb_i)-(1-y[i])*np.log(1-f_wb_i))\n",
    "        \n",
    "    cost=cost/m\n",
    "    \n",
    "    regularised_cost=0\n",
    "    for j in range(n):\n",
    "        regularised_cost=regularised_cost+w[j]**2\n",
    "        \n",
    "    regularised_cost=regularised_cost*(l/(2*m))\n",
    "    \n",
    "    total_cost=cost+regularised_cost\n",
    "    \n",
    "    return total_cost"
   ]
  },
  {
   "cell_type": "markdown",
   "metadata": {},
   "source": [
    "Regularised Logistic Gradient can be given as:\n",
    "\n",
    "dj_dw_j=[(1/m)*summation[(f_wb_i-y[i])*x[i][j]] + (l/m)*w[j]\n",
    "\n",
    "dj_db=(1/m)*summation(f_wb_i-y[i])\n",
    "\n",
    "\n",
    "where f_wb_i=sigmoid(w.x[i]+b)"
   ]
  },
  {
   "cell_type": "code",
   "execution_count": null,
   "metadata": {},
   "outputs": [],
   "source": [
    "def compute_regularised_gradient(x,y,w,b,l):\n",
    "    m,n=x.shape()\n",
    "    dj_dw=np.zeros(n)\n",
    "    dj_db=0\n",
    "    \n",
    "    for i in range(m):\n",
    "        f_wb_i=sigmoid(np.dot(w,x[i])+b)\n",
    "        error_i=f_wb_i-y[i]\n",
    "        \n",
    "        for j in range(n):\n",
    "            dj_dw[j]=dj_dw[j]+error_i*x[i][j]\n",
    "        \n",
    "        dj_db=dj_db+error_i\n",
    "        \n",
    "    dj_dw=dj_dw/m\n",
    "    dj_db=dj_db/m\n",
    "    \n",
    "    for j in range(n):\n",
    "        dj_dw[j]=dj_dw[j]+(l/m)*w[j]\n",
    "        \n",
    "    return dj_dw,dj_db\n",
    "        "
   ]
  },
  {
   "cell_type": "markdown",
   "metadata": {},
   "source": [
    "The gradient descent for regularised gradient will be computed the same way as normal descent, just taking the values of the regularised dj_dw, dj_db"
   ]
  }
 ],
 "metadata": {
  "kernelspec": {
   "display_name": "Python 3",
   "language": "python",
   "name": "python3"
  },
  "language_info": {
   "codemirror_mode": {
    "name": "ipython",
    "version": 3
   },
   "file_extension": ".py",
   "mimetype": "text/x-python",
   "name": "python",
   "nbconvert_exporter": "python",
   "pygments_lexer": "ipython3",
   "version": "3.11.3"
  },
  "orig_nbformat": 4
 },
 "nbformat": 4,
 "nbformat_minor": 2
}
