{
 "cells": [
  {
   "cell_type": "code",
   "execution_count": 1,
   "metadata": {},
   "outputs": [],
   "source": [
    "import numpy as np\n",
    "import matplotlib.pyplot as plt\n",
    "from plt_overfit import overfit_example, output\n",
    "np.set_printoptions(precision=8)"
   ]
  },
  {
   "cell_type": "markdown",
   "metadata": {},
   "source": [
    "Cost Function for regularised Linear Regression\n",
    "\n",
    "\n",
    "j_wb=[(1/2m)*summation(f_wb_i-y[i])^2] + [(lambda/2m)*summation(w_j^2)]\n",
    "\n",
    "\n",
    "Here, the extra term comes to reduce the effects of the parameters w_j to avoid overfitting.By choosing a large value of lambda, we can make the function fit well by minimising the parameters as well when minimising the cost"
   ]
  },
  {
   "cell_type": "code",
   "execution_count": 2,
   "metadata": {},
   "outputs": [],
   "source": [
    "def compute_regularised_cost(x,y,w,b,l):\n",
    "    m=x.shape[0]\n",
    "    n=len(w)\n",
    "    cost=0\n",
    "    \n",
    "    for i in range(m):\n",
    "        f_wb_i=np.dot(w,x[i])+b\n",
    "        cost=cost+(f_wb_i-y[i])**2\n",
    "    \n",
    "    cost=cost/(2*m)\n",
    "    \n",
    "    regularised_cost=0\n",
    "    \n",
    "    for i in range(n):\n",
    "        regularised_cost=regularised_cost+(w[j])**2\n",
    "        \n",
    "    regularised_cost=(l/(2*m))*regularised_cost\n",
    "    \n",
    "    total_cost=cost+regularised_cost\n",
    "    \n",
    "    return total_cost"
   ]
  },
  {
   "cell_type": "markdown",
   "metadata": {},
   "source": [
    "Regularised Gradient can be given as:\n",
    "\n",
    "dj_dw_j=(1/m)*summation[(f_wb_i-y[i])*x[i][j]] + (lambda/m)*w[j]\n",
    "\n",
    "dj_db=(1/m)*summation(f_wb_i-y[i])"
   ]
  },
  {
   "cell_type": "code",
   "execution_count": 3,
   "metadata": {},
   "outputs": [],
   "source": [
    "def compute_regularised_gradient(x,y,w,b,l):\n",
    "    \n",
    "    m,n=x.shape()\n",
    "    dj_dw=np.zeros(n)\n",
    "    dj_db=0\n",
    "    \n",
    "    for i in range(m):\n",
    "        f_wb_i=(np.dot(w,x[i])+b)\n",
    "        error=f_wb_i-y[i]\n",
    "        for j in range(n):\n",
    "            dj_dw[j]=dj_dw[j]+error*x[i][j]\n",
    "            \n",
    "        dj_db=dj_db+error\n",
    "        \n",
    "    dj_dw=dj_dw/m\n",
    "    dj_db=dj_db/m\n",
    "    \n",
    "    for j in range(n):\n",
    "        dj_dw[j]=dj_dw[j]+(l/m)*w[j]\n",
    "        \n",
    "    return dj_dw,dj_db"
   ]
  },
  {
   "cell_type": "markdown",
   "metadata": {},
   "source": [
    "The gradient descent for regularised gradient will be computed the same way as normal descent, just taking the values of the regularised dj_dw, dj_db"
   ]
  }
 ],
 "metadata": {
  "kernelspec": {
   "display_name": "Python 3",
   "language": "python",
   "name": "python3"
  },
  "language_info": {
   "codemirror_mode": {
    "name": "ipython",
    "version": 3
   },
   "file_extension": ".py",
   "mimetype": "text/x-python",
   "name": "python",
   "nbconvert_exporter": "python",
   "pygments_lexer": "ipython3",
   "version": "3.11.3"
  },
  "orig_nbformat": 4
 },
 "nbformat": 4,
 "nbformat_minor": 2
}
